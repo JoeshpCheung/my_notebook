{
 "cells": [
  {
   "cell_type": "markdown",
   "metadata": {},
   "source": [
    "**<font size = 5>Problem Records</font>**"
   ]
  },
  {
   "cell_type": "markdown",
   "metadata": {},
   "source": [
    "**<font size = 4>1. label encoder & one-hot encoder</font>**"
   ]
  },
  {
   "cell_type": "code",
   "execution_count": 4,
   "metadata": {},
   "outputs": [
    {
     "name": "stdout",
     "output_type": "stream",
     "text": [
      "   color class  weight\n",
      "0  green     A     1.0\n",
      "1    red     B     1.0\n",
      "2   blue     A     3.0\n",
      "3    red     B     2.5\n",
      "4   blue     A     2.0 \n",
      "\n",
      "LabelEncoder:\n",
      "    color  class  weight\n",
      "0      1      0       0\n",
      "1      2      1       0\n",
      "2      0      0       3\n",
      "3      2      1       2\n",
      "4      0      0       1 \n",
      "\n",
      "inverse LabelEncoder:\n",
      "    color class  weight\n",
      "0  green     A     1.0\n",
      "1    red     B     1.0\n",
      "2   blue     A     3.0\n",
      "3    red     B     2.5\n",
      "4   blue     A     2.0 \n",
      "\n",
      "One-Hot Encoder:\n",
      "    weight  color_blue  color_green  color_red  class_A  class_B\n",
      "0     1.0           0            1          0        1        0\n",
      "1     1.0           0            0          1        0        1\n",
      "2     3.0           1            0          0        1        0\n",
      "3     2.5           0            0          1        0        1\n",
      "4     2.0           1            0          0        1        0\n"
     ]
    }
   ],
   "source": [
    "import pandas as pd\n",
    "from collections import defaultdict\n",
    "from sklearn.preprocessing import LabelEncoder\n",
    "df = pd.DataFrame([\n",
    "    ['green', 'A', 1], \n",
    "    ['red', 'B', 1], \n",
    "    ['blue', 'A', 3], \n",
    "    ['red', 'B', 2.5], \n",
    "    ['blue', 'A', 2]]) \n",
    "df.columns = ['color', 'class', 'weight']\n",
    "print(df, '\\n')\n",
    "\n",
    "# LabelEncoder\n",
    "d = defaultdict(LabelEncoder)\n",
    "df_labelEncoder = df.apply(lambda i: d[i.name].fit_transform(i))\n",
    "print('LabelEncoder:\\n', df_labelEncoder, '\\n')\n",
    "# inverse LabelEncoder\n",
    "df_inverse_labelEncoder = df_labelEncoder.apply(lambda i: d[i.name].inverse_transform(i))\n",
    "print('inverse LabelEncoder:\\n', df_inverse_labelEncoder, '\\n')\n",
    "\n",
    "# one-hot Encoder\n",
    "df_onehotEncoder = pd.get_dummies(df)\n",
    "print('One-Hot Encoder:\\n', df_onehotEncoder)"
   ]
  },
  {
   "cell_type": "markdown",
   "metadata": {
    "collapsed": true
   },
   "source": [
    "**<font size = 4>2. list - copy & deepcopy</font>**"
   ]
  },
  {
   "cell_type": "code",
   "execution_count": 5,
   "metadata": {
    "scrolled": true
   },
   "outputs": [
    {
     "name": "stdout",
     "output_type": "stream",
     "text": [
      "copy:\n",
      "copy-new1:\t[0, [0, 2, 2], 3]\n",
      "copy-new2:\t[1, [0, 2, 2], 3]\n",
      "copy-new3:\t[1, [0, 2, 2], 3]\n",
      "\n",
      "deep copy:\n",
      "copy-new4:\t[1, [2, 2, 2], 3]\n"
     ]
    }
   ],
   "source": [
    "import copy\n",
    "old = [1,[2,2,2],3]\n",
    "# copy\n",
    "new1 = old #指向同一地址\n",
    "new2 = [i for i in old] #只复制了第一层,嵌套list还是浅复制\n",
    "new3 = old.copy() #同上\n",
    "# deep copy\n",
    "new4 = copy.deepcopy(old) #完美\n",
    "\n",
    "old[0] = 0\n",
    "old[1][0] = 0\n",
    "print('copy:\\ncopy-new1:\\t%s\\ncopy-new2:\\t%s\\ncopy-new3:\\t%s\\n\\ndeep copy:\\ncopy-new4:\\t%s'\n",
    "      %(new1, new2, new3, new4))"
   ]
  },
  {
   "cell_type": "markdown",
   "metadata": {
    "collapsed": true
   },
   "source": [
    "**<font size = 4>3. 中英文空格处理' ' & '　'</font>**"
   ]
  },
  {
   "cell_type": "code",
   "execution_count": 6,
   "metadata": {},
   "outputs": [
    {
     "name": "stdout",
     "output_type": "stream",
     "text": [
      "equal: False\n",
      "test1: ( \tO)\ttest1.split(): (['O'])\n",
      "test2: (　\tO)\ttest2.split(): (['O'])\n"
     ]
    }
   ],
   "source": [
    "# crf++　注意以后replace(' ', '').replace('　', '') 中文全角空格：'\\u3000'\n",
    "bnk = ' '\n",
    "bnk_chinese = '　'\n",
    "print('equal: %s' % (bnk == bnk_chinese))\n",
    "test1 = bnk+'\\tO'\n",
    "test2 = bnk_chinese+'\\tO'\n",
    "print('test1: (%s)\\ttest1.split(): (%s)' % (test1, test1.split()))\n",
    "print('test2: (%s)\\ttest2.split(): (%s)' % (test2, test2.split()))"
   ]
  },
  {
   "cell_type": "markdown",
   "metadata": {
    "collapsed": true
   },
   "source": [
    "**<font size = 4>4. ssh免密登录 & 快捷命名服务器</font>**"
   ]
  },
  {
   "cell_type": "code",
   "execution_count": 7,
   "metadata": {
    "collapsed": true
   },
   "outputs": [],
   "source": [
    "# 1) cd ~/.ssh\n",
    "# 2) ssh-keygen # 生成公钥私钥\n",
    "# 3) ssh-copy-id -i ~/.ssh/id_rsa.pub  服务器名@192.168.x.xxx # 将公钥放入服务器中\n",
    "# # ssh-copy-id 将key写到远程机器的 ~/ .ssh/authorized_key.文件中\n",
    "# 4) vim config\n",
    "# 5) # 在config中输入：\n",
    "#     Host nlp\n",
    "#         HostName 192.168.0.222\n",
    "#         Port 22\n",
    "#         User algsuper\n",
    "#         IdentityFile ~/.ssh/id_rsa\n",
    "#     Host cv\n",
    "#         HostName 192.168.0.138\n",
    "#         Port 22\n",
    "#         User algsuper\n",
    "# 6) ssh nlp # 即可进入algsuper@192.168.0.222服务器"
   ]
  },
  {
   "cell_type": "markdown",
   "metadata": {
    "collapsed": true
   },
   "source": [
    "**<font size = 4>5. 挂载服务器到本地文件夹</font>**"
   ]
  },
  {
   "cell_type": "code",
   "execution_count": null,
   "metadata": {
    "collapsed": true
   },
   "outputs": [],
   "source": [
    "# 1) sudo sshfs -o nonempty,allow_other,exec {服务器目录} {本地文件夹目录} #挂载服务器到本地文件夹\n",
    "# 2) sudo umount -f {本地文件夹目录} #取消挂载"
   ]
  },
  {
   "cell_type": "markdown",
   "metadata": {},
   "source": [
    "**<font size = 4>6. Linux: 设置shell命令快捷键alias</font>**"
   ]
  },
  {
   "cell_type": "code",
   "execution_count": 1,
   "metadata": {
    "collapsed": true
   },
   "outputs": [],
   "source": [
    "# 1) ~/.bashrc\n",
    "# # Alias definitions.\n",
    "# # You may want to put all your additions into a separate file like\n",
    "# # ~/.bash_aliases, instead of adding them here directly.\n",
    "# # See /usr/share/doc/bash-doc/examples in the bash-doc package.\n",
    "\n",
    "# # custom alias\n",
    "\n",
    "# # alias for wechat\n",
    "# alias wechat='/home/yuiant/third_party/electronic-wechat/electronic-wechat &'\n",
    "\n",
    "# # alias for gfw\n",
    "# alias ow='sudo /etc/init.d/privoxy restart && export http_proxy=\"127.0.0.1:8118\" https_proxy=\"127.0.0.1:8118\"'\n",
    "# alias iw='sudo /etc/init.d/privoxy stop && unset http_proxy https_proxy'\n",
    "\n",
    "# # alias for trans\n",
    "# alias e2c='trans en:zh-CN'\n",
    "# alias c2e='trans zh-CN:en'\n",
    "\n",
    "# # alias for jupyter kernel installation\n",
    "# alias jik='python3 -m ipykernel install --user'\n",
    "\n",
    "# # alias for nvim\n",
    "# alias nv='nvim'\n",
    "\n",
    "# # aliases for virtualenvwrapper\n",
    "# alias v='workon'\n",
    "# alias mkv='mkvirtualenv'\n",
    "# alias dd='deactivate'\n",
    "# alias rmv='rmvirtualenv'\n",
    "# alias lsv='lsvirtualenv'\n",
    "# alias cpv='cpvirtualenv'\n",
    "# alias allv='allvirtualenv'\n",
    "# alias cdv='cdvirtualenv'\n",
    "# alias cdsp='cdsitepackages'\n",
    "# alias lssp='lssitepackages'\n",
    "# alias mkp='mkproject'\n",
    "# alias setvp='setvirtualenvproject'\n",
    "# alias wpv='wipeenv'"
   ]
  },
  {
   "cell_type": "markdown",
   "metadata": {},
   "source": [
    "**<font size = 4>7. Neovim: 配置</font>**"
   ]
  },
  {
   "cell_type": "code",
   "execution_count": null,
   "metadata": {
    "collapsed": true
   },
   "outputs": [],
   "source": [
    "sudo apt-get install ctags\n",
    "sudo apt-get install pylint\n"
   ]
  }
 ],
 "metadata": {
  "anaconda-cloud": {},
  "kernelspec": {
   "display_name": "Python [conda env:anaconda3]",
   "language": "python",
   "name": "conda-env-anaconda3-py"
  },
  "language_info": {
   "codemirror_mode": {
    "name": "ipython",
    "version": 3
   },
   "file_extension": ".py",
   "mimetype": "text/x-python",
   "name": "python",
   "nbconvert_exporter": "python",
   "pygments_lexer": "ipython3",
   "version": "3.5.4"
  }
 },
 "nbformat": 4,
 "nbformat_minor": 1
}
