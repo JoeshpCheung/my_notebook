{
 "cells": [
  {
   "cell_type": "raw",
   "metadata": {},
   "source": [
    "tmux ls  # 查看当前所有tmux windows\n",
    "tmux new -s jason  # 新建一个tmux并命名为jason的tmux windows\n",
    "tmux at -t jason  # 进入命名为jason的tmux windows\n",
    "prefix + d  # 退出tmux\n",
    "\n",
    "prefix + c  # 创建新窗口\n",
    "prefix + &  # 关闭当前窗口\n",
    "prefix + w  # 列出所有窗口\n",
    "\n",
    "prefix + h  # 切换左侧窗格\n",
    "prefix + j  # 切换上侧窗格\n",
    "prefix + k  # 切换下侧窗格\n",
    "prefix + l  # 切换右侧窗格\n",
    "\n",
    "prefix + |  # 垂直分割\n",
    "prefix + -  # 水平分割\n",
    "prefix + x  # 关闭窗格\n",
    "\n",
    "prefix + z  # 当前窗格最大化 / 当前窗格最小化\n",
    "prefix + q  # 给每个窗格数字标志，选数字切换窗格"
   ]
  },
  {
   "cell_type": "code",
   "execution_count": null,
   "metadata": {
    "collapsed": true
   },
   "outputs": [],
   "source": []
  }
 ],
 "metadata": {
  "kernelspec": {
   "display_name": "Python [conda env:py3]",
   "language": "python",
   "name": "conda-env-py3-py"
  }
 },
 "nbformat": 4,
 "nbformat_minor": 2
}
